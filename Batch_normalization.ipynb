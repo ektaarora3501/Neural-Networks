{
  "nbformat": 4,
  "nbformat_minor": 0,
  "metadata": {
    "colab": {
      "name": "Untitled1.ipynb",
      "version": "0.3.2",
      "provenance": [],
      "include_colab_link": true
    },
    "kernelspec": {
      "name": "python3",
      "display_name": "Python 3"
    },
    "accelerator": "GPU"
  },
  "cells": [
    {
      "cell_type": "markdown",
      "metadata": {
        "id": "view-in-github",
        "colab_type": "text"
      },
      "source": [
        "<a href=\"https://colab.research.google.com/github/ektaarora3501/Neural-Networks/blob/master/Batch_normalization.ipynb\" target=\"_parent\"><img src=\"https://colab.research.google.com/assets/colab-badge.svg\" alt=\"Open In Colab\"/></a>"
      ]
    },
    {
      "cell_type": "code",
      "metadata": {
        "id": "3ny69OvTbqND",
        "colab_type": "code",
        "colab": {}
      },
      "source": [
        "!pip install tensorflow-gpu"
      ],
      "execution_count": 0,
      "outputs": []
    },
    {
      "cell_type": "markdown",
      "metadata": {
        "id": "6NbNbAl8CTNW",
        "colab_type": "text"
      },
      "source": [
        "Running the same network but now by using batch normalization."
      ]
    },
    {
      "cell_type": "code",
      "metadata": {
        "id": "oGu15hlBBwvg",
        "colab_type": "code",
        "colab": {}
      },
      "source": [
        "\n",
        "import tensorflow as tf\n",
        "tf.reset_default_graph()\n",
        "n_inputs = 28*28\n",
        "n_hidden1 = 300\n",
        "n_hidden2 = 100\n",
        "n_outputs = 10\n",
        "tf.reset_default_graph()\n",
        "X = tf.placeholder(tf.float32, shape=(None, n_inputs), name=\"X\")\n",
        "y = tf.placeholder(tf.int64, shape=(None), name=\"y\")\n",
        "training=tf.placeholder_with_default(False, shape=(),name=\"training\")\n",
        "\n",
        "\n",
        "def neuron_layer(X, n_neurons, name, activation=None):\n",
        "      with tf.name_scope(name):\n",
        "          n_inputs = int(X.get_shape()[1])\n",
        "          stddev = 2 / np.sqrt(n_inputs)\n",
        "          init = tf.truncated_normal((n_inputs, n_neurons), stddev=stddev)\n",
        "          W = tf.Variable(init, name=\"kernel\")\n",
        "          b = tf.Variable(tf.zeros([n_neurons]), name=\"bias\")\n",
        "          Z = tf.matmul(X, W) + b\n",
        "          if activation is not None:\n",
        "                 return activation(Z) \n",
        "          else:\n",
        "                 return Z"
      ],
      "execution_count": 0,
      "outputs": []
    },
    {
      "cell_type": "code",
      "metadata": {
        "id": "In8dRLocBywb",
        "colab_type": "code",
        "colab": {
          "base_uri": "https://localhost:8080/",
          "height": 211
        },
        "outputId": "7dfb24bb-5742-40dd-f825-6c2b4083599e"
      },
      "source": [
        "with tf.name_scope(\"dnn\"):\n",
        "  hidden1 = tf.layers.dense(X, n_hidden1, name=\"hidden1\")\n",
        "  bn1=tf.layers.batch_normalization(hidden1,training=training,momentum=0.9)\n",
        "  bn1_activation=tf.nn.elu(bn1)\n",
        "  hidden2 = tf.layers.dense(bn1_activation, n_hidden2, name=\"hidden2\")\n",
        "  bn2=tf.layers.batch_normalization(hidden2,training=training,momentum=0.9)\n",
        "  bn2_activation=tf.nn.elu(bn2)\n",
        "  logits_before = tf.layers.dense(bn2, n_outputs, name=\"outputs\")\n",
        "  logits=tf.layers.batch_normalization(logits_before,training=training,momentum=0.9)"
      ],
      "execution_count": 3,
      "outputs": [
        {
          "output_type": "stream",
          "text": [
            "WARNING: Logging before flag parsing goes to stderr.\n",
            "W0905 02:34:41.918064 139766755895168 deprecation.py:323] From <ipython-input-3-d5d550681bd1>:2: dense (from tensorflow.python.layers.core) is deprecated and will be removed in a future version.\n",
            "Instructions for updating:\n",
            "Use keras.layers.dense instead.\n",
            "W0905 02:34:41.930074 139766755895168 deprecation.py:506] From /usr/local/lib/python3.6/dist-packages/tensorflow/python/ops/init_ops.py:1251: calling VarianceScaling.__init__ (from tensorflow.python.ops.init_ops) with dtype is deprecated and will be removed in a future version.\n",
            "Instructions for updating:\n",
            "Call initializer instance with the dtype argument instead of passing it to the constructor\n",
            "W0905 02:34:42.213900 139766755895168 deprecation.py:323] From <ipython-input-3-d5d550681bd1>:3: batch_normalization (from tensorflow.python.layers.normalization) is deprecated and will be removed in a future version.\n",
            "Instructions for updating:\n",
            "Use keras.layers.BatchNormalization instead.  In particular, `tf.control_dependencies(tf.GraphKeys.UPDATE_OPS)` should not be used (consult the `tf.keras.layers.batch_normalization` documentation).\n"
          ],
          "name": "stderr"
        }
      ]
    },
    {
      "cell_type": "code",
      "metadata": {
        "id": "v9Gv5te3B6_3",
        "colab_type": "code",
        "colab": {}
      },
      "source": [
        "with tf.name_scope(\"loss\"):\n",
        "  xentropy = tf.nn.sparse_softmax_cross_entropy_with_logits(labels=y,logits=logits)\n",
        "  loss = tf.reduce_mean(xentropy, name=\"loss\")"
      ],
      "execution_count": 0,
      "outputs": []
    },
    {
      "cell_type": "code",
      "metadata": {
        "id": "8MA4vi27B8yU",
        "colab_type": "code",
        "colab": {
          "base_uri": "https://localhost:8080/",
          "height": 34
        },
        "outputId": "ccf96de5-9230-4514-d88a-af6c4b942e2d"
      },
      "source": [
        "learning_rate = 0.01\n",
        "with tf.name_scope(\"train\"):\n",
        "  optimizer = tf.train.GradientDescentOptimizer(learning_rate)\n",
        "  training_op = optimizer.minimize(loss)\n",
        "\n",
        "with tf.name_scope(\"eval\"):\n",
        "  correct = tf.nn.in_top_k(logits, y, 1)\n",
        "  accuracy = tf.reduce_mean(tf.cast(correct, tf.float32))\n",
        "  print(correct)\n",
        "\n",
        "init = tf.global_variables_initializer()\n",
        "saver = tf.train.Saver()  "
      ],
      "execution_count": 5,
      "outputs": [
        {
          "output_type": "stream",
          "text": [
            "Tensor(\"eval/in_top_k/InTopKV2:0\", shape=(?,), dtype=bool)\n"
          ],
          "name": "stdout"
        }
      ]
    },
    {
      "cell_type": "code",
      "metadata": {
        "id": "kBsaXW5WCDEL",
        "colab_type": "code",
        "colab": {
          "base_uri": "https://localhost:8080/",
          "height": 1000
        },
        "outputId": "85cb1457-5913-47b9-81ce-817662094598"
      },
      "source": [
        "extra_update_ops=tf.get_collection(tf.GraphKeys.UPDATE_OPS)\n",
        "from tensorflow.examples.tutorials.mnist import input_data\n",
        "mnist = input_data.read_data_sets(\"/tmp/data/\")\n",
        "n_epochs = 40\n",
        "batch_size = 50\n",
        "with tf.Session() as sess:\n",
        "  init.run()\n",
        "  for epoch in range(n_epochs):\n",
        "    for iteration in range(mnist.train.num_examples//batch_size):\n",
        "        X_batch,y_batch=mnist.train.next_batch(batch_size)\n",
        "        sess.run([training_op,extra_update_ops],feed_dict={training:True,X:X_batch,y:y_batch})\n",
        "    #acc_train=accuracy.eval(feed_dict={X:X_batch,y:y_batch})\n",
        "    acc_test=accuracy.eval(feed_dict={X:mnist.test.images,y:mnist.test.labels})\n",
        "    \n",
        "    print(epoch,\"test accuracy :\",acc_test)\n",
        "  save_path=saver.save(sess, \"./my_model_final.ckpt\")\n",
        "    "
      ],
      "execution_count": 6,
      "outputs": [
        {
          "output_type": "stream",
          "text": [
            "W0905 02:34:55.480119 139766755895168 deprecation.py:323] From <ipython-input-6-c7e321cf5a56>:3: read_data_sets (from tensorflow.contrib.learn.python.learn.datasets.mnist) is deprecated and will be removed in a future version.\n",
            "Instructions for updating:\n",
            "Please use alternatives such as official/mnist/dataset.py from tensorflow/models.\n",
            "W0905 02:34:55.481612 139766755895168 deprecation.py:323] From /usr/local/lib/python3.6/dist-packages/tensorflow/contrib/learn/python/learn/datasets/mnist.py:260: maybe_download (from tensorflow.contrib.learn.python.learn.datasets.base) is deprecated and will be removed in a future version.\n",
            "Instructions for updating:\n",
            "Please write your own downloading logic.\n",
            "W0905 02:34:55.482839 139766755895168 deprecation.py:323] From /usr/local/lib/python3.6/dist-packages/tensorflow/contrib/learn/python/learn/datasets/base.py:252: _internal_retry.<locals>.wrap.<locals>.wrapped_fn (from tensorflow.contrib.learn.python.learn.datasets.base) is deprecated and will be removed in a future version.\n",
            "Instructions for updating:\n",
            "Please use urllib or similar directly.\n",
            "W0905 02:34:56.145655 139766755895168 deprecation.py:323] From /usr/local/lib/python3.6/dist-packages/tensorflow/contrib/learn/python/learn/datasets/mnist.py:262: extract_images (from tensorflow.contrib.learn.python.learn.datasets.mnist) is deprecated and will be removed in a future version.\n",
            "Instructions for updating:\n",
            "Please use tf.data to implement this functionality.\n"
          ],
          "name": "stderr"
        },
        {
          "output_type": "stream",
          "text": [
            "Successfully downloaded train-images-idx3-ubyte.gz 9912422 bytes.\n",
            "Extracting /tmp/data/train-images-idx3-ubyte.gz\n"
          ],
          "name": "stdout"
        },
        {
          "output_type": "stream",
          "text": [
            "W0905 02:34:56.567040 139766755895168 deprecation.py:323] From /usr/local/lib/python3.6/dist-packages/tensorflow/contrib/learn/python/learn/datasets/mnist.py:267: extract_labels (from tensorflow.contrib.learn.python.learn.datasets.mnist) is deprecated and will be removed in a future version.\n",
            "Instructions for updating:\n",
            "Please use tf.data to implement this functionality.\n"
          ],
          "name": "stderr"
        },
        {
          "output_type": "stream",
          "text": [
            "Successfully downloaded train-labels-idx1-ubyte.gz 28881 bytes.\n",
            "Extracting /tmp/data/train-labels-idx1-ubyte.gz\n",
            "Successfully downloaded "
          ],
          "name": "stdout"
        },
        {
          "output_type": "stream",
          "text": [
            "W0905 02:34:56.959431 139766755895168 deprecation.py:323] From /usr/local/lib/python3.6/dist-packages/tensorflow/contrib/learn/python/learn/datasets/mnist.py:290: DataSet.__init__ (from tensorflow.contrib.learn.python.learn.datasets.mnist) is deprecated and will be removed in a future version.\n",
            "Instructions for updating:\n",
            "Please use alternatives such as official/mnist/dataset.py from tensorflow/models.\n"
          ],
          "name": "stderr"
        },
        {
          "output_type": "stream",
          "text": [
            "t10k-images-idx3-ubyte.gz 1648877 bytes.\n",
            "Extracting /tmp/data/t10k-images-idx3-ubyte.gz\n",
            "Successfully downloaded t10k-labels-idx1-ubyte.gz 4542 bytes.\n",
            "Extracting /tmp/data/t10k-labels-idx1-ubyte.gz\n",
            "0 test accuracy : 0.9151\n",
            "1 test accuracy : 0.9328\n",
            "2 test accuracy : 0.9484\n",
            "3 test accuracy : 0.9538\n",
            "4 test accuracy : 0.9603\n",
            "5 test accuracy : 0.9617\n",
            "6 test accuracy : 0.9638\n",
            "7 test accuracy : 0.9677\n",
            "8 test accuracy : 0.9701\n",
            "9 test accuracy : 0.9708\n",
            "10 test accuracy : 0.9731\n",
            "11 test accuracy : 0.9706\n",
            "12 test accuracy : 0.9731\n",
            "13 test accuracy : 0.9748\n",
            "14 test accuracy : 0.9731\n",
            "15 test accuracy : 0.9729\n",
            "16 test accuracy : 0.9764\n",
            "17 test accuracy : 0.9736\n",
            "18 test accuracy : 0.9777\n",
            "19 test accuracy : 0.9763\n",
            "20 test accuracy : 0.9759\n",
            "21 test accuracy : 0.9783\n",
            "22 test accuracy : 0.9756\n",
            "23 test accuracy : 0.9791\n",
            "24 test accuracy : 0.9779\n",
            "25 test accuracy : 0.9775\n",
            "26 test accuracy : 0.9763\n",
            "27 test accuracy : 0.9789\n",
            "28 test accuracy : 0.9788\n",
            "29 test accuracy : 0.9799\n",
            "30 test accuracy : 0.9787\n",
            "31 test accuracy : 0.9785\n",
            "32 test accuracy : 0.9797\n",
            "33 test accuracy : 0.9786\n",
            "34 test accuracy : 0.9812\n",
            "35 test accuracy : 0.9788\n",
            "36 test accuracy : 0.9788\n",
            "37 test accuracy : 0.9773\n",
            "38 test accuracy : 0.9801\n",
            "39 test accuracy : 0.9786\n"
          ],
          "name": "stdout"
        }
      ]
    }
  ]
}